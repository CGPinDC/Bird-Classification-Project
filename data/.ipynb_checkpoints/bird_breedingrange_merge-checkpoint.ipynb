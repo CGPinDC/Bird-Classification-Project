{
 "cells": [
  {
   "cell_type": "code",
   "execution_count": 1,
   "metadata": {},
   "outputs": [],
   "source": [
    "import pandas as pd"
   ]
  },
  {
   "cell_type": "code",
   "execution_count": 78,
   "metadata": {},
   "outputs": [],
   "source": [
    "df = pd.read_csv('bird_dataset.csv', low_memory=False) #column 39\n",
    "ranges = pd.read_csv('breeding_range.csv', index_col=0)"
   ]
  },
  {
   "cell_type": "code",
   "execution_count": 57,
   "metadata": {},
   "outputs": [
    {
     "name": "stdout",
     "output_type": "stream",
     "text": [
      "<class 'pandas.core.frame.DataFrame'>\n",
      "Int64Index: 11072 entries, 5 to 33878\n",
      "Data columns (total 13 columns):\n",
      " #   Column             Non-Null Count  Dtype  \n",
      "---  ------             --------------  -----  \n",
      " 0   11.1               11040 non-null  float64\n",
      " 1   10.2               11040 non-null  float64\n",
      " 2   Rank               11072 non-null  object \n",
      " 3   SP; Extinct (†)    160 non-null    object \n",
      " 4   English name       11072 non-null  object \n",
      " 5   Counters           11072 non-null  object \n",
      " 6   Scientific Name    11072 non-null  object \n",
      " 7   Authority          11072 non-null  object \n",
      " 8   Breeding Range     11072 non-null  object \n",
      " 9   Nonbreeding Range  778 non-null    object \n",
      " 10  Code               2990 non-null   object \n",
      " 11  Comment            3009 non-null   object \n",
      " 12  breeding_range     10605 non-null  object \n",
      "dtypes: float64(2), object(11)\n",
      "memory usage: 1.2+ MB\n"
     ]
    }
   ],
   "source": [
    "ranges.info()"
   ]
  },
  {
   "cell_type": "code",
   "execution_count": 25,
   "metadata": {},
   "outputs": [
    {
     "data": {
      "text/plain": [
       "Index(['Unnamed: 0', '11.1', '10.2', 'Rank', 'SP; Extinct (†)', 'English name',\n",
       "       'Counters', 'Scientific Name', 'Authority', 'Breeding Range',\n",
       "       'Nonbreeding Range', 'Code', 'Comment', 'breeding_range'],\n",
       "      dtype='object')"
      ]
     },
     "execution_count": 25,
     "metadata": {},
     "output_type": "execute_result"
    }
   ],
   "source": [
    "ranges.columns"
   ]
  },
  {
   "cell_type": "code",
   "execution_count": 26,
   "metadata": {},
   "outputs": [],
   "source": [
    "columns= ['English name', 'Scientific Name', 'breeding_range']"
   ]
  },
  {
   "cell_type": "code",
   "execution_count": 69,
   "metadata": {},
   "outputs": [],
   "source": [
    "ranges= ranges[columns].copy()"
   ]
  },
  {
   "cell_type": "code",
   "execution_count": 70,
   "metadata": {},
   "outputs": [
    {
     "data": {
      "text/html": [
       "<div>\n",
       "<style scoped>\n",
       "    .dataframe tbody tr th:only-of-type {\n",
       "        vertical-align: middle;\n",
       "    }\n",
       "\n",
       "    .dataframe tbody tr th {\n",
       "        vertical-align: top;\n",
       "    }\n",
       "\n",
       "    .dataframe thead th {\n",
       "        text-align: right;\n",
       "    }\n",
       "</style>\n",
       "<table border=\"1\" class=\"dataframe\">\n",
       "  <thead>\n",
       "    <tr style=\"text-align: right;\">\n",
       "      <th></th>\n",
       "      <th>English name</th>\n",
       "      <th>Scientific Name</th>\n",
       "      <th>breeding_range</th>\n",
       "    </tr>\n",
       "  </thead>\n",
       "  <tbody>\n",
       "    <tr>\n",
       "      <th>5</th>\n",
       "      <td>Common Ostrich</td>\n",
       "      <td>Struthio camelus</td>\n",
       "      <td>AF</td>\n",
       "    </tr>\n",
       "    <tr>\n",
       "      <th>10</th>\n",
       "      <td>Somali Ostrich</td>\n",
       "      <td>Struthio molybdophanes</td>\n",
       "      <td>AF</td>\n",
       "    </tr>\n",
       "    <tr>\n",
       "      <th>15</th>\n",
       "      <td>Greater Rhea</td>\n",
       "      <td>Rhea americana</td>\n",
       "      <td>SA</td>\n",
       "    </tr>\n",
       "    <tr>\n",
       "      <th>21</th>\n",
       "      <td>Lesser Rhea</td>\n",
       "      <td>Rhea pennata</td>\n",
       "      <td>SA</td>\n",
       "    </tr>\n",
       "    <tr>\n",
       "      <th>29</th>\n",
       "      <td>Southern Brown Kiwi</td>\n",
       "      <td>Apteryx australis</td>\n",
       "      <td>AU</td>\n",
       "    </tr>\n",
       "  </tbody>\n",
       "</table>\n",
       "</div>"
      ],
      "text/plain": [
       "           English name         Scientific Name breeding_range\n",
       "5        Common Ostrich        Struthio camelus             AF\n",
       "10       Somali Ostrich  Struthio molybdophanes             AF\n",
       "15         Greater Rhea          Rhea americana             SA\n",
       "21          Lesser Rhea            Rhea pennata             SA\n",
       "29  Southern Brown Kiwi       Apteryx australis             AU"
      ]
     },
     "execution_count": 70,
     "metadata": {},
     "output_type": "execute_result"
    }
   ],
   "source": [
    "ranges.head()"
   ]
  },
  {
   "cell_type": "markdown",
   "metadata": {},
   "source": [
    "### Merge "
   ]
  },
  {
   "cell_type": "code",
   "execution_count": 29,
   "metadata": {},
   "outputs": [],
   "source": [
    "english_merge = df.merge(ranges, how='left', right_on='English name', left_on='English')"
   ]
  },
  {
   "cell_type": "code",
   "execution_count": 30,
   "metadata": {},
   "outputs": [],
   "source": [
    "sci_merge = df.merge(ranges, how='left', right_on='Scientific Name', left_on='Scientific')"
   ]
  },
  {
   "cell_type": "code",
   "execution_count": 34,
   "metadata": {},
   "outputs": [],
   "source": [
    "combine_df = pd.concat([english_merge, sci_merge])"
   ]
  },
  {
   "cell_type": "code",
   "execution_count": 32,
   "metadata": {},
   "outputs": [],
   "source": [
    "combine_df"
   ]
  },
  {
   "cell_type": "code",
   "execution_count": 36,
   "metadata": {},
   "outputs": [],
   "source": [
    "#combine_df.dropna(subset=['breeding_range'], axis=0, inplace=True)"
   ]
  },
  {
   "cell_type": "code",
   "execution_count": 38,
   "metadata": {},
   "outputs": [],
   "source": [
    "combine_df.drop_duplicates(subset=['Scientific'], inplace=True)"
   ]
  },
  {
   "cell_type": "code",
   "execution_count": 40,
   "metadata": {},
   "outputs": [
    {
     "data": {
      "text/plain": [
       "(11072, 3)"
      ]
     },
     "execution_count": 40,
     "metadata": {},
     "output_type": "execute_result"
    }
   ],
   "source": [
    "ranges.shape"
   ]
  },
  {
   "cell_type": "code",
   "execution_count": 41,
   "metadata": {},
   "outputs": [
    {
     "data": {
      "text/plain": [
       "(9597, 84)"
      ]
     },
     "execution_count": 41,
     "metadata": {},
     "output_type": "execute_result"
    }
   ],
   "source": [
    "df.shape"
   ]
  },
  {
   "cell_type": "code",
   "execution_count": 46,
   "metadata": {},
   "outputs": [
    {
     "data": {
      "text/plain": [
       "(8832, 87)"
      ]
     },
     "execution_count": 46,
     "metadata": {},
     "output_type": "execute_result"
    }
   ],
   "source": [
    "combine_df.shape"
   ]
  },
  {
   "cell_type": "markdown",
   "metadata": {},
   "source": [
    "### Investigate loss"
   ]
  },
  {
   "cell_type": "code",
   "execution_count": 66,
   "metadata": {},
   "outputs": [
    {
     "data": {
      "text/html": [
       "<div>\n",
       "<style scoped>\n",
       "    .dataframe tbody tr th:only-of-type {\n",
       "        vertical-align: middle;\n",
       "    }\n",
       "\n",
       "    .dataframe tbody tr th {\n",
       "        vertical-align: top;\n",
       "    }\n",
       "\n",
       "    .dataframe thead th {\n",
       "        text-align: right;\n",
       "    }\n",
       "</style>\n",
       "<table border=\"1\" class=\"dataframe\">\n",
       "  <thead>\n",
       "    <tr style=\"text-align: right;\">\n",
       "      <th></th>\n",
       "      <th>English name</th>\n",
       "      <th>Scientific Name</th>\n",
       "      <th>breeding_range</th>\n",
       "    </tr>\n",
       "  </thead>\n",
       "  <tbody>\n",
       "    <tr>\n",
       "      <th>5</th>\n",
       "      <td>Common Ostrich</td>\n",
       "      <td>Struthio camelus</td>\n",
       "      <td>AF</td>\n",
       "    </tr>\n",
       "    <tr>\n",
       "      <th>10</th>\n",
       "      <td>Somali Ostrich</td>\n",
       "      <td>Struthio molybdophanes</td>\n",
       "      <td>AF</td>\n",
       "    </tr>\n",
       "    <tr>\n",
       "      <th>15</th>\n",
       "      <td>Greater Rhea</td>\n",
       "      <td>Rhea americana</td>\n",
       "      <td>SA</td>\n",
       "    </tr>\n",
       "    <tr>\n",
       "      <th>21</th>\n",
       "      <td>Lesser Rhea</td>\n",
       "      <td>Rhea pennata</td>\n",
       "      <td>SA</td>\n",
       "    </tr>\n",
       "    <tr>\n",
       "      <th>29</th>\n",
       "      <td>Southern Brown Kiwi</td>\n",
       "      <td>Apteryx australis</td>\n",
       "      <td>AU</td>\n",
       "    </tr>\n",
       "  </tbody>\n",
       "</table>\n",
       "</div>"
      ],
      "text/plain": [
       "           English name         Scientific Name breeding_range\n",
       "5        Common Ostrich        Struthio camelus             AF\n",
       "10       Somali Ostrich  Struthio molybdophanes             AF\n",
       "15         Greater Rhea          Rhea americana             SA\n",
       "21          Lesser Rhea            Rhea pennata             SA\n",
       "29  Southern Brown Kiwi       Apteryx australis             AU"
      ]
     },
     "execution_count": 66,
     "metadata": {},
     "output_type": "execute_result"
    }
   ],
   "source": [
    "ranges.head()"
   ]
  },
  {
   "cell_type": "code",
   "execution_count": 53,
   "metadata": {},
   "outputs": [
    {
     "data": {
      "text/html": [
       "<div>\n",
       "<style scoped>\n",
       "    .dataframe tbody tr th:only-of-type {\n",
       "        vertical-align: middle;\n",
       "    }\n",
       "\n",
       "    .dataframe tbody tr th {\n",
       "        vertical-align: top;\n",
       "    }\n",
       "\n",
       "    .dataframe thead th {\n",
       "        text-align: right;\n",
       "    }\n",
       "</style>\n",
       "<table border=\"1\" class=\"dataframe\">\n",
       "  <thead>\n",
       "    <tr style=\"text-align: right;\">\n",
       "      <th></th>\n",
       "      <th>SpecID</th>\n",
       "      <th>PassNonPass</th>\n",
       "      <th>IOCOrder</th>\n",
       "      <th>BLFamilyLatin</th>\n",
       "      <th>BLFamilyEnglish</th>\n",
       "      <th>BLFamSequID</th>\n",
       "      <th>Taxo</th>\n",
       "      <th>Scientific</th>\n",
       "      <th>English</th>\n",
       "      <th>Diet-Inv</th>\n",
       "      <th>...</th>\n",
       "      <th>grassland</th>\n",
       "      <th>introduced_vegetation</th>\n",
       "      <th>marine_coastal_supratidal</th>\n",
       "      <th>marine_intertidal</th>\n",
       "      <th>marine_neritic</th>\n",
       "      <th>marine_oceanic</th>\n",
       "      <th>rocky_areas</th>\n",
       "      <th>savanna</th>\n",
       "      <th>shrubland</th>\n",
       "      <th>wetlands_inland</th>\n",
       "    </tr>\n",
       "  </thead>\n",
       "  <tbody>\n",
       "    <tr>\n",
       "      <th>1</th>\n",
       "      <td>38.0</td>\n",
       "      <td>Nonpasseriformes</td>\n",
       "      <td>Rheiformes</td>\n",
       "      <td>Rheidae</td>\n",
       "      <td>Rheas</td>\n",
       "      <td>3.0</td>\n",
       "      <td>BL3</td>\n",
       "      <td>Rhea pennata</td>\n",
       "      <td>Lesser Rhea</td>\n",
       "      <td>20.0</td>\n",
       "      <td>...</td>\n",
       "      <td>0.0</td>\n",
       "      <td>0.0</td>\n",
       "      <td>0.0</td>\n",
       "      <td>0.0</td>\n",
       "      <td>0.0</td>\n",
       "      <td>0.0</td>\n",
       "      <td>0.0</td>\n",
       "      <td>0.0</td>\n",
       "      <td>0.0</td>\n",
       "      <td>0.0</td>\n",
       "    </tr>\n",
       "  </tbody>\n",
       "</table>\n",
       "<p>1 rows × 84 columns</p>\n",
       "</div>"
      ],
      "text/plain": [
       "   SpecID       PassNonPass    IOCOrder BLFamilyLatin BLFamilyEnglish  \\\n",
       "1    38.0  Nonpasseriformes  Rheiformes       Rheidae           Rheas   \n",
       "\n",
       "   BLFamSequID Taxo    Scientific      English  Diet-Inv  ...  grassland  \\\n",
       "1          3.0  BL3  Rhea pennata  Lesser Rhea      20.0  ...        0.0   \n",
       "\n",
       "   introduced_vegetation  marine_coastal_supratidal  marine_intertidal  \\\n",
       "1                    0.0                        0.0                0.0   \n",
       "\n",
       "   marine_neritic  marine_oceanic  rocky_areas  savanna  shrubland  \\\n",
       "1             0.0             0.0          0.0      0.0        0.0   \n",
       "\n",
       "  wetlands_inland  \n",
       "1             0.0  \n",
       "\n",
       "[1 rows x 84 columns]"
      ]
     },
     "execution_count": 53,
     "metadata": {},
     "output_type": "execute_result"
    }
   ],
   "source": [
    "df[df['Scientific']=='Rhea pennata']"
   ]
  },
  {
   "cell_type": "code",
   "execution_count": 71,
   "metadata": {},
   "outputs": [
    {
     "data": {
      "text/html": [
       "<div>\n",
       "<style scoped>\n",
       "    .dataframe tbody tr th:only-of-type {\n",
       "        vertical-align: middle;\n",
       "    }\n",
       "\n",
       "    .dataframe tbody tr th {\n",
       "        vertical-align: top;\n",
       "    }\n",
       "\n",
       "    .dataframe thead th {\n",
       "        text-align: right;\n",
       "    }\n",
       "</style>\n",
       "<table border=\"1\" class=\"dataframe\">\n",
       "  <thead>\n",
       "    <tr style=\"text-align: right;\">\n",
       "      <th></th>\n",
       "      <th>English name</th>\n",
       "      <th>Scientific Name</th>\n",
       "      <th>breeding_range</th>\n",
       "      <th>id</th>\n",
       "    </tr>\n",
       "  </thead>\n",
       "  <tbody>\n",
       "    <tr>\n",
       "      <th>5</th>\n",
       "      <td>Common Ostrich</td>\n",
       "      <td>Struthio camelus</td>\n",
       "      <td>AF</td>\n",
       "      <td>struthiocamelus</td>\n",
       "    </tr>\n",
       "    <tr>\n",
       "      <th>10</th>\n",
       "      <td>Somali Ostrich</td>\n",
       "      <td>Struthio molybdophanes</td>\n",
       "      <td>AF</td>\n",
       "      <td>struthiomolybdophanes</td>\n",
       "    </tr>\n",
       "    <tr>\n",
       "      <th>15</th>\n",
       "      <td>Greater Rhea</td>\n",
       "      <td>Rhea americana</td>\n",
       "      <td>SA</td>\n",
       "      <td>rheaamericana</td>\n",
       "    </tr>\n",
       "    <tr>\n",
       "      <th>21</th>\n",
       "      <td>Lesser Rhea</td>\n",
       "      <td>Rhea pennata</td>\n",
       "      <td>SA</td>\n",
       "      <td>rheapennata</td>\n",
       "    </tr>\n",
       "    <tr>\n",
       "      <th>29</th>\n",
       "      <td>Southern Brown Kiwi</td>\n",
       "      <td>Apteryx australis</td>\n",
       "      <td>AU</td>\n",
       "      <td>apteryxaustralis</td>\n",
       "    </tr>\n",
       "  </tbody>\n",
       "</table>\n",
       "</div>"
      ],
      "text/plain": [
       "           English name         Scientific Name breeding_range  \\\n",
       "5        Common Ostrich        Struthio camelus             AF   \n",
       "10       Somali Ostrich  Struthio molybdophanes             AF   \n",
       "15         Greater Rhea          Rhea americana             SA   \n",
       "21          Lesser Rhea            Rhea pennata             SA   \n",
       "29  Southern Brown Kiwi       Apteryx australis             AU   \n",
       "\n",
       "                       id  \n",
       "5         struthiocamelus  \n",
       "10  struthiomolybdophanes  \n",
       "15          rheaamericana  \n",
       "21            rheapennata  \n",
       "29       apteryxaustralis  "
      ]
     },
     "execution_count": 71,
     "metadata": {},
     "output_type": "execute_result"
    }
   ],
   "source": [
    "ranges['id'] = ranges['Scientific Name'].map(lambda x: x.lower().replace(\" \",\"\"))\n",
    "ranges.head()"
   ]
  },
  {
   "cell_type": "code",
   "execution_count": 73,
   "metadata": {},
   "outputs": [
    {
     "data": {
      "text/html": [
       "<div>\n",
       "<style scoped>\n",
       "    .dataframe tbody tr th:only-of-type {\n",
       "        vertical-align: middle;\n",
       "    }\n",
       "\n",
       "    .dataframe tbody tr th {\n",
       "        vertical-align: top;\n",
       "    }\n",
       "\n",
       "    .dataframe thead th {\n",
       "        text-align: right;\n",
       "    }\n",
       "</style>\n",
       "<table border=\"1\" class=\"dataframe\">\n",
       "  <thead>\n",
       "    <tr style=\"text-align: right;\">\n",
       "      <th></th>\n",
       "      <th>SpecID</th>\n",
       "      <th>PassNonPass</th>\n",
       "      <th>IOCOrder</th>\n",
       "      <th>BLFamilyLatin</th>\n",
       "      <th>BLFamilyEnglish</th>\n",
       "      <th>BLFamSequID</th>\n",
       "      <th>Taxo</th>\n",
       "      <th>Scientific</th>\n",
       "      <th>English</th>\n",
       "      <th>Diet-Inv</th>\n",
       "      <th>...</th>\n",
       "      <th>introduced_vegetation</th>\n",
       "      <th>marine_coastal_supratidal</th>\n",
       "      <th>marine_intertidal</th>\n",
       "      <th>marine_neritic</th>\n",
       "      <th>marine_oceanic</th>\n",
       "      <th>rocky_areas</th>\n",
       "      <th>savanna</th>\n",
       "      <th>shrubland</th>\n",
       "      <th>wetlands_inland</th>\n",
       "      <th>id</th>\n",
       "    </tr>\n",
       "  </thead>\n",
       "  <tbody>\n",
       "    <tr>\n",
       "      <th>0</th>\n",
       "      <td>37.0</td>\n",
       "      <td>Nonpasseriformes</td>\n",
       "      <td>Rheiformes</td>\n",
       "      <td>Rheidae</td>\n",
       "      <td>Rheas</td>\n",
       "      <td>3.0</td>\n",
       "      <td>BL3</td>\n",
       "      <td>Rhea americana</td>\n",
       "      <td>Greater Rhea</td>\n",
       "      <td>20.0</td>\n",
       "      <td>...</td>\n",
       "      <td>0.0</td>\n",
       "      <td>0.0</td>\n",
       "      <td>0.0</td>\n",
       "      <td>0.0</td>\n",
       "      <td>0.0</td>\n",
       "      <td>0.0</td>\n",
       "      <td>1.0</td>\n",
       "      <td>1.0</td>\n",
       "      <td>0.0</td>\n",
       "      <td>rheaamericana</td>\n",
       "    </tr>\n",
       "    <tr>\n",
       "      <th>1</th>\n",
       "      <td>38.0</td>\n",
       "      <td>Nonpasseriformes</td>\n",
       "      <td>Rheiformes</td>\n",
       "      <td>Rheidae</td>\n",
       "      <td>Rheas</td>\n",
       "      <td>3.0</td>\n",
       "      <td>BL3</td>\n",
       "      <td>Rhea pennata</td>\n",
       "      <td>Lesser Rhea</td>\n",
       "      <td>20.0</td>\n",
       "      <td>...</td>\n",
       "      <td>0.0</td>\n",
       "      <td>0.0</td>\n",
       "      <td>0.0</td>\n",
       "      <td>0.0</td>\n",
       "      <td>0.0</td>\n",
       "      <td>0.0</td>\n",
       "      <td>0.0</td>\n",
       "      <td>0.0</td>\n",
       "      <td>0.0</td>\n",
       "      <td>rheapennata</td>\n",
       "    </tr>\n",
       "    <tr>\n",
       "      <th>2</th>\n",
       "      <td>45.0</td>\n",
       "      <td>Nonpasseriformes</td>\n",
       "      <td>Casuariiformes</td>\n",
       "      <td>Casuariidae</td>\n",
       "      <td>Cassowaries</td>\n",
       "      <td>4.0</td>\n",
       "      <td>BL3</td>\n",
       "      <td>Casuarius casuarius</td>\n",
       "      <td>Southern Cassowary</td>\n",
       "      <td>10.0</td>\n",
       "      <td>...</td>\n",
       "      <td>0.0</td>\n",
       "      <td>0.0</td>\n",
       "      <td>0.0</td>\n",
       "      <td>0.0</td>\n",
       "      <td>0.0</td>\n",
       "      <td>0.0</td>\n",
       "      <td>0.0</td>\n",
       "      <td>0.0</td>\n",
       "      <td>0.0</td>\n",
       "      <td>casuariuscasuarius</td>\n",
       "    </tr>\n",
       "    <tr>\n",
       "      <th>3</th>\n",
       "      <td>46.0</td>\n",
       "      <td>Nonpasseriformes</td>\n",
       "      <td>Casuariiformes</td>\n",
       "      <td>Casuariidae</td>\n",
       "      <td>Cassowaries</td>\n",
       "      <td>4.0</td>\n",
       "      <td>BL3</td>\n",
       "      <td>Casuarius bennetti</td>\n",
       "      <td>Dwarf Cassowary</td>\n",
       "      <td>10.0</td>\n",
       "      <td>...</td>\n",
       "      <td>0.0</td>\n",
       "      <td>0.0</td>\n",
       "      <td>0.0</td>\n",
       "      <td>0.0</td>\n",
       "      <td>0.0</td>\n",
       "      <td>0.0</td>\n",
       "      <td>1.0</td>\n",
       "      <td>1.0</td>\n",
       "      <td>0.0</td>\n",
       "      <td>casuariusbennetti</td>\n",
       "    </tr>\n",
       "    <tr>\n",
       "      <th>4</th>\n",
       "      <td>47.0</td>\n",
       "      <td>Nonpasseriformes</td>\n",
       "      <td>Casuariiformes</td>\n",
       "      <td>Casuariidae</td>\n",
       "      <td>Cassowaries</td>\n",
       "      <td>4.0</td>\n",
       "      <td>BL3</td>\n",
       "      <td>Casuarius unappendiculatus</td>\n",
       "      <td>Northern Cassowary</td>\n",
       "      <td>20.0</td>\n",
       "      <td>...</td>\n",
       "      <td>0.0</td>\n",
       "      <td>0.0</td>\n",
       "      <td>0.0</td>\n",
       "      <td>0.0</td>\n",
       "      <td>0.0</td>\n",
       "      <td>0.0</td>\n",
       "      <td>1.0</td>\n",
       "      <td>1.0</td>\n",
       "      <td>0.0</td>\n",
       "      <td>casuariusunappendiculatus</td>\n",
       "    </tr>\n",
       "  </tbody>\n",
       "</table>\n",
       "<p>5 rows × 85 columns</p>\n",
       "</div>"
      ],
      "text/plain": [
       "   SpecID       PassNonPass        IOCOrder BLFamilyLatin BLFamilyEnglish  \\\n",
       "0    37.0  Nonpasseriformes      Rheiformes       Rheidae           Rheas   \n",
       "1    38.0  Nonpasseriformes      Rheiformes       Rheidae           Rheas   \n",
       "2    45.0  Nonpasseriformes  Casuariiformes   Casuariidae     Cassowaries   \n",
       "3    46.0  Nonpasseriformes  Casuariiformes   Casuariidae     Cassowaries   \n",
       "4    47.0  Nonpasseriformes  Casuariiformes   Casuariidae     Cassowaries   \n",
       "\n",
       "   BLFamSequID Taxo                  Scientific             English  Diet-Inv  \\\n",
       "0          3.0  BL3              Rhea americana        Greater Rhea      20.0   \n",
       "1          3.0  BL3                Rhea pennata         Lesser Rhea      20.0   \n",
       "2          4.0  BL3         Casuarius casuarius  Southern Cassowary      10.0   \n",
       "3          4.0  BL3          Casuarius bennetti     Dwarf Cassowary      10.0   \n",
       "4          4.0  BL3  Casuarius unappendiculatus  Northern Cassowary      20.0   \n",
       "\n",
       "   ...  introduced_vegetation  marine_coastal_supratidal  marine_intertidal  \\\n",
       "0  ...                    0.0                        0.0                0.0   \n",
       "1  ...                    0.0                        0.0                0.0   \n",
       "2  ...                    0.0                        0.0                0.0   \n",
       "3  ...                    0.0                        0.0                0.0   \n",
       "4  ...                    0.0                        0.0                0.0   \n",
       "\n",
       "   marine_neritic  marine_oceanic  rocky_areas  savanna  shrubland  \\\n",
       "0             0.0             0.0          0.0      1.0        1.0   \n",
       "1             0.0             0.0          0.0      0.0        0.0   \n",
       "2             0.0             0.0          0.0      0.0        0.0   \n",
       "3             0.0             0.0          0.0      1.0        1.0   \n",
       "4             0.0             0.0          0.0      1.0        1.0   \n",
       "\n",
       "   wetlands_inland                         id  \n",
       "0              0.0              rheaamericana  \n",
       "1              0.0                rheapennata  \n",
       "2              0.0         casuariuscasuarius  \n",
       "3              0.0          casuariusbennetti  \n",
       "4              0.0  casuariusunappendiculatus  \n",
       "\n",
       "[5 rows x 85 columns]"
      ]
     },
     "execution_count": 73,
     "metadata": {},
     "output_type": "execute_result"
    }
   ],
   "source": [
    "df['id'] = df['Scientific'].map(lambda x: x.lower().replace(\" \",\"\"))\n",
    "df.head()"
   ]
  },
  {
   "cell_type": "code",
   "execution_count": 74,
   "metadata": {
    "scrolled": true
   },
   "outputs": [
    {
     "name": "stdout",
     "output_type": "stream",
     "text": [
      "<class 'pandas.core.frame.DataFrame'>\n",
      "Int64Index: 9597 entries, 0 to 9596\n",
      "Data columns (total 88 columns):\n",
      " #   Column                         Non-Null Count  Dtype  \n",
      "---  ------                         --------------  -----  \n",
      " 0   SpecID                         9597 non-null   float64\n",
      " 1   PassNonPass                    9597 non-null   object \n",
      " 2   IOCOrder                       9597 non-null   object \n",
      " 3   BLFamilyLatin                  9597 non-null   object \n",
      " 4   BLFamilyEnglish                9597 non-null   object \n",
      " 5   BLFamSequID                    9597 non-null   float64\n",
      " 6   Taxo                           9597 non-null   object \n",
      " 7   Scientific                     9597 non-null   object \n",
      " 8   English                        9597 non-null   object \n",
      " 9   Diet-Inv                       9597 non-null   float64\n",
      " 10  Diet-Vend                      9597 non-null   float64\n",
      " 11  Diet-Vect                      9597 non-null   float64\n",
      " 12  Diet-Vfish                     9597 non-null   float64\n",
      " 13  Diet-Vunk                      9597 non-null   float64\n",
      " 14  Diet-Scav                      9597 non-null   float64\n",
      " 15  Diet-Fruit                     9597 non-null   float64\n",
      " 16  Diet-Nect                      9597 non-null   float64\n",
      " 17  Diet-Seed                      9597 non-null   float64\n",
      " 18  Diet-PlantO                    9597 non-null   float64\n",
      " 19  Diet-5Cat                      9597 non-null   object \n",
      " 20  Diet-Source                    9597 non-null   object \n",
      " 21  Diet-Certainty                 9597 non-null   object \n",
      " 22  Diet-EnteredBy                 9325 non-null   object \n",
      " 23  ForStrat-watbelowsurf          9597 non-null   float64\n",
      " 24  ForStrat-wataroundsurf         9597 non-null   float64\n",
      " 25  ForStrat-ground                9597 non-null   float64\n",
      " 26  ForStrat-understory            9597 non-null   float64\n",
      " 27  ForStrat-midhigh               9597 non-null   float64\n",
      " 28  ForStrat-canopy                9597 non-null   float64\n",
      " 29  ForStrat-aerial                9597 non-null   float64\n",
      " 30  PelagicSpecialist              9597 non-null   float64\n",
      " 31  ForStrat-Source                9597 non-null   object \n",
      " 32  ForStrat-SpecLevel             9597 non-null   float64\n",
      " 33  ForStrat-EnteredBy             9597 non-null   object \n",
      " 34  Nocturnal                      9597 non-null   float64\n",
      " 35  BodyMass-Value                 9597 non-null   float64\n",
      " 36  BodyMass-Source                9597 non-null   object \n",
      " 37  BodyMass-SpecLevel             9597 non-null   float64\n",
      " 38  BodyMass-Comment               330 non-null    object \n",
      " 39  Record-Comment                 225 non-null    object \n",
      " 40  English name_x                 9597 non-null   object \n",
      " 41  Family                         9597 non-null   object \n",
      " 42  Global IUCN Red List Category  9597 non-null   object \n",
      " 43  endemic_breeding               9597 non-null   float64\n",
      " 44  migratory                      9597 non-null   float64\n",
      " 45  africa                         9597 non-null   float64\n",
      " 46  antarctica                     9597 non-null   float64\n",
      " 47  asia                           9597 non-null   float64\n",
      " 48  australasia                    9597 non-null   float64\n",
      " 49  caribbean                      9597 non-null   float64\n",
      " 50  central_amer                   9597 non-null   float64\n",
      " 51  central_asia                   9597 non-null   float64\n",
      " 52  europe                         9597 non-null   float64\n",
      " 53  high_seas                      9597 non-null   float64\n",
      " 54  mid_east                       9597 non-null   float64\n",
      " 55  north_amer                     9597 non-null   float64\n",
      " 56  oceania                        9597 non-null   float64\n",
      " 57  south_amer                     9597 non-null   float64\n",
      " 58  agriculture_threat             9597 non-null   float64\n",
      " 59  biological_threat              9597 non-null   float64\n",
      " 60  climate_change_threat          9597 non-null   float64\n",
      " 61  energy_mining_threat           9597 non-null   float64\n",
      " 62  geological_threat              9597 non-null   float64\n",
      " 63  human_intrusions_threat        9597 non-null   float64\n",
      " 64  natural_systems_threat         9597 non-null   float64\n",
      " 65  pollution_threat               9597 non-null   float64\n",
      " 66  res_comm_dev_threat            9597 non-null   float64\n",
      " 67  transportation_threat          9597 non-null   float64\n",
      " 68  invasive_threat                9597 non-null   float64\n",
      " 69  artificial_aquatic             9597 non-null   float64\n",
      " 70  artificial_terrestrial         9597 non-null   float64\n",
      " 71  caves_subterranean             9597 non-null   float64\n",
      " 72  desert                         9597 non-null   float64\n",
      " 73  forest                         9597 non-null   float64\n",
      " 74  grassland                      9597 non-null   float64\n",
      " 75  introduced_vegetation          9597 non-null   float64\n",
      " 76  marine_coastal_supratidal      9597 non-null   float64\n",
      " 77  marine_intertidal              9597 non-null   float64\n",
      " 78  marine_neritic                 9597 non-null   float64\n",
      " 79  marine_oceanic                 9597 non-null   float64\n",
      " 80  rocky_areas                    9597 non-null   float64\n",
      " 81  savanna                        9597 non-null   float64\n",
      " 82  shrubland                      9597 non-null   float64\n",
      " 83  wetlands_inland                9597 non-null   float64\n",
      " 84  id                             9597 non-null   object \n",
      " 85  English name_y                 7917 non-null   object \n",
      " 86  Scientific Name                7917 non-null   object \n",
      " 87  breeding_range                 7592 non-null   object \n",
      "dtypes: float64(65), object(23)\n",
      "memory usage: 6.5+ MB\n"
     ]
    }
   ],
   "source": [
    "id_merge = df.merge(ranges, how='left', right_on='id', left_on='id')\n",
    "id_merge.info()"
   ]
  },
  {
   "cell_type": "code",
   "execution_count": 92,
   "metadata": {},
   "outputs": [],
   "source": [
    "ranges['eng_id'] = ranges['English name'].map(lambda x: x.replace(\"\\'\", \"\").replace(\" \", \"\").replace(\"-\", \"\").lower())"
   ]
  },
  {
   "cell_type": "code",
   "execution_count": 94,
   "metadata": {},
   "outputs": [],
   "source": [
    "df['eng_id'] = df['English name'].map(lambda x: x.replace(\"\\'\", \"\").replace(\" \", \"\").replace(\"-\", \"\").lower())"
   ]
  },
  {
   "cell_type": "code",
   "execution_count": 95,
   "metadata": {},
   "outputs": [],
   "source": [
    "eng_id_merge = id_merge = df.merge(ranges, how='left', right_on='eng_id', left_on='eng_id')"
   ]
  },
  {
   "cell_type": "code",
   "execution_count": 96,
   "metadata": {
    "scrolled": true
   },
   "outputs": [
    {
     "name": "stdout",
     "output_type": "stream",
     "text": [
      "<class 'pandas.core.frame.DataFrame'>\n",
      "Int64Index: 9597 entries, 0 to 9596\n",
      "Data columns (total 98 columns):\n",
      " #   Column                         Non-Null Count  Dtype  \n",
      "---  ------                         --------------  -----  \n",
      " 0   SpecID                         9597 non-null   float64\n",
      " 1   PassNonPass                    9597 non-null   object \n",
      " 2   IOCOrder                       9597 non-null   object \n",
      " 3   BLFamilyLatin                  9597 non-null   object \n",
      " 4   BLFamilyEnglish                9597 non-null   object \n",
      " 5   BLFamSequID                    9597 non-null   float64\n",
      " 6   Taxo                           9597 non-null   object \n",
      " 7   Scientific                     9597 non-null   object \n",
      " 8   English                        9597 non-null   object \n",
      " 9   Diet-Inv                       9597 non-null   float64\n",
      " 10  Diet-Vend                      9597 non-null   float64\n",
      " 11  Diet-Vect                      9597 non-null   float64\n",
      " 12  Diet-Vfish                     9597 non-null   float64\n",
      " 13  Diet-Vunk                      9597 non-null   float64\n",
      " 14  Diet-Scav                      9597 non-null   float64\n",
      " 15  Diet-Fruit                     9597 non-null   float64\n",
      " 16  Diet-Nect                      9597 non-null   float64\n",
      " 17  Diet-Seed                      9597 non-null   float64\n",
      " 18  Diet-PlantO                    9597 non-null   float64\n",
      " 19  Diet-5Cat                      9597 non-null   object \n",
      " 20  Diet-Source                    9597 non-null   object \n",
      " 21  Diet-Certainty                 9597 non-null   object \n",
      " 22  Diet-EnteredBy                 9325 non-null   object \n",
      " 23  ForStrat-watbelowsurf          9597 non-null   float64\n",
      " 24  ForStrat-wataroundsurf         9597 non-null   float64\n",
      " 25  ForStrat-ground                9597 non-null   float64\n",
      " 26  ForStrat-understory            9597 non-null   float64\n",
      " 27  ForStrat-midhigh               9597 non-null   float64\n",
      " 28  ForStrat-canopy                9597 non-null   float64\n",
      " 29  ForStrat-aerial                9597 non-null   float64\n",
      " 30  PelagicSpecialist              9597 non-null   float64\n",
      " 31  ForStrat-Source                9597 non-null   object \n",
      " 32  ForStrat-SpecLevel             9597 non-null   float64\n",
      " 33  ForStrat-EnteredBy             9597 non-null   object \n",
      " 34  Nocturnal                      9597 non-null   float64\n",
      " 35  BodyMass-Value                 9597 non-null   float64\n",
      " 36  BodyMass-Source                9597 non-null   object \n",
      " 37  BodyMass-SpecLevel             9597 non-null   float64\n",
      " 38  BodyMass-Comment               330 non-null    object \n",
      " 39  Record-Comment                 225 non-null    object \n",
      " 40  English name_x                 9597 non-null   object \n",
      " 41  Family                         9597 non-null   object \n",
      " 42  Global IUCN Red List Category  9597 non-null   object \n",
      " 43  endemic_breeding               9597 non-null   float64\n",
      " 44  migratory                      9597 non-null   float64\n",
      " 45  africa                         9597 non-null   float64\n",
      " 46  antarctica                     9597 non-null   float64\n",
      " 47  asia                           9597 non-null   float64\n",
      " 48  australasia                    9597 non-null   float64\n",
      " 49  caribbean                      9597 non-null   float64\n",
      " 50  central_amer                   9597 non-null   float64\n",
      " 51  central_asia                   9597 non-null   float64\n",
      " 52  europe                         9597 non-null   float64\n",
      " 53  high_seas                      9597 non-null   float64\n",
      " 54  mid_east                       9597 non-null   float64\n",
      " 55  north_amer                     9597 non-null   float64\n",
      " 56  oceania                        9597 non-null   float64\n",
      " 57  south_amer                     9597 non-null   float64\n",
      " 58  agriculture_threat             9597 non-null   float64\n",
      " 59  biological_threat              9597 non-null   float64\n",
      " 60  climate_change_threat          9597 non-null   float64\n",
      " 61  energy_mining_threat           9597 non-null   float64\n",
      " 62  geological_threat              9597 non-null   float64\n",
      " 63  human_intrusions_threat        9597 non-null   float64\n",
      " 64  natural_systems_threat         9597 non-null   float64\n",
      " 65  pollution_threat               9597 non-null   float64\n",
      " 66  res_comm_dev_threat            9597 non-null   float64\n",
      " 67  transportation_threat          9597 non-null   float64\n",
      " 68  invasive_threat                9597 non-null   float64\n",
      " 69  artificial_aquatic             9597 non-null   float64\n",
      " 70  artificial_terrestrial         9597 non-null   float64\n",
      " 71  caves_subterranean             9597 non-null   float64\n",
      " 72  desert                         9597 non-null   float64\n",
      " 73  forest                         9597 non-null   float64\n",
      " 74  grassland                      9597 non-null   float64\n",
      " 75  introduced_vegetation          9597 non-null   float64\n",
      " 76  marine_coastal_supratidal      9597 non-null   float64\n",
      " 77  marine_intertidal              9597 non-null   float64\n",
      " 78  marine_neritic                 9597 non-null   float64\n",
      " 79  marine_oceanic                 9597 non-null   float64\n",
      " 80  rocky_areas                    9597 non-null   float64\n",
      " 81  savanna                        9597 non-null   float64\n",
      " 82  shrubland                      9597 non-null   float64\n",
      " 83  wetlands_inland                9597 non-null   float64\n",
      " 84  eng_id                         9597 non-null   object \n",
      " 85  11.1                           8735 non-null   float64\n",
      " 86  10.2                           8736 non-null   float64\n",
      " 87  Rank                           8738 non-null   object \n",
      " 88  SP; Extinct (†)                7 non-null      object \n",
      " 89  English name_y                 8738 non-null   object \n",
      " 90  Counters                       8738 non-null   object \n",
      " 91  Scientific Name                8738 non-null   object \n",
      " 92  Authority                      8738 non-null   object \n",
      " 93  Breeding Range                 8738 non-null   object \n",
      " 94  Nonbreeding Range              670 non-null    object \n",
      " 95  Code                           1583 non-null   object \n",
      " 96  Comment                        1602 non-null   object \n",
      " 97  breeding_range                 8332 non-null   object \n",
      "dtypes: float64(67), object(31)\n",
      "memory usage: 7.2+ MB\n"
     ]
    }
   ],
   "source": [
    "eng_id_merge.info()"
   ]
  },
  {
   "cell_type": "code",
   "execution_count": 99,
   "metadata": {},
   "outputs": [
    {
     "data": {
      "text/plain": [
       "1265"
      ]
     },
     "execution_count": 99,
     "metadata": {},
     "output_type": "execute_result"
    }
   ],
   "source": [
    "eng_id_merge['breeding_range'].isna().sum()"
   ]
  },
  {
   "cell_type": "code",
   "execution_count": 100,
   "metadata": {},
   "outputs": [
    {
     "data": {
      "text/plain": [
       "1265"
      ]
     },
     "execution_count": 100,
     "metadata": {},
     "output_type": "execute_result"
    }
   ],
   "source": [
    "id_merge['breeding_range'].isna().sum()"
   ]
  },
  {
   "cell_type": "code",
   "execution_count": null,
   "metadata": {},
   "outputs": [],
   "source": [
    "id_merge.loc"
   ]
  }
 ],
 "metadata": {
  "kernelspec": {
   "display_name": "Python 3",
   "language": "python",
   "name": "python3"
  },
  "language_info": {
   "codemirror_mode": {
    "name": "ipython",
    "version": 3
   },
   "file_extension": ".py",
   "mimetype": "text/x-python",
   "name": "python",
   "nbconvert_exporter": "python",
   "pygments_lexer": "ipython3",
   "version": "3.8.5"
  }
 },
 "nbformat": 4,
 "nbformat_minor": 4
}
