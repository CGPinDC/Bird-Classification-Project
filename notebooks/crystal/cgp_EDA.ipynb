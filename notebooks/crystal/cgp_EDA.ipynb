{
 "cells": [
  {
   "cell_type": "markdown",
   "metadata": {},
   "source": [
    "# EDA"
   ]
  },
  {
   "cell_type": "code",
   "execution_count": 2,
   "metadata": {},
   "outputs": [],
   "source": [
    "import pandas as pd\n",
    "import matplotlib.pyplot as plt"
   ]
  },
  {
   "cell_type": "markdown",
   "metadata": {},
   "source": [
    "## Data Understanding\n",
    "\n",
    "Describe the data being used for this project.\n",
    "\n",
    "Questions to consider:\n",
    "\n",
    "- Where did the data come from, and how do they relate to the data analysis questions?\n",
    "- What do the data represent? Who is in the sample and what variables are included?\n",
    "- What is the target variable?\n",
    "- What are the properties of the variables you intend to use?"
   ]
  },
  {
   "cell_type": "code",
   "execution_count": 7,
   "metadata": {},
   "outputs": [
    {
     "name": "stdout",
     "output_type": "stream",
     "text": [
      "bird_breedingrange_merge.ipynb\n",
      "bird_dataset.csv\n",
      "birds_withrange.csv\n",
      "breeding_range.csv\n"
     ]
    }
   ],
   "source": [
    "!ls ../../data"
   ]
  },
  {
   "cell_type": "code",
   "execution_count": 52,
   "metadata": {},
   "outputs": [],
   "source": [
    "df = pd.read_csv('../../data/birds_withrange.csv', low_memory=False)"
   ]
  },
  {
   "cell_type": "markdown",
   "metadata": {},
   "source": [
    "## Data Preparation\n",
    "\n",
    "Describe and justify the process for preparing the data for analysis.\n",
    "\n",
    "Questions to consider:\n",
    "\n",
    "- Were there variables you dropped or created?\n",
    "- How did you address missing values or outliers?\n",
    "- Why are these choices appropriate given the data and the business problem?\n",
    "- Can you pipeline your preparation steps to use them consistently in the modeling process?"
   ]
  },
  {
   "cell_type": "code",
   "execution_count": 12,
   "metadata": {},
   "outputs": [
    {
     "name": "stdout",
     "output_type": "stream",
     "text": [
      "<class 'pandas.core.frame.DataFrame'>\n",
      "RangeIndex: 9597 entries, 0 to 9596\n",
      "Data columns (total 87 columns):\n",
      " #   Column                         Non-Null Count  Dtype  \n",
      "---  ------                         --------------  -----  \n",
      " 0   SpecID                         9597 non-null   float64\n",
      " 1   PassNonPass                    9597 non-null   object \n",
      " 2   IOCOrder                       9597 non-null   object \n",
      " 3   BLFamilyLatin                  9597 non-null   object \n",
      " 4   BLFamilyEnglish                9597 non-null   object \n",
      " 5   BLFamSequID                    9597 non-null   float64\n",
      " 6   Taxo                           9597 non-null   object \n",
      " 7   Scientific                     9597 non-null   object \n",
      " 8   English                        9597 non-null   object \n",
      " 9   Diet-Inv                       9597 non-null   float64\n",
      " 10  Diet-Vend                      9597 non-null   float64\n",
      " 11  Diet-Vect                      9597 non-null   float64\n",
      " 12  Diet-Vfish                     9597 non-null   float64\n",
      " 13  Diet-Vunk                      9597 non-null   float64\n",
      " 14  Diet-Scav                      9597 non-null   float64\n",
      " 15  Diet-Fruit                     9597 non-null   float64\n",
      " 16  Diet-Nect                      9597 non-null   float64\n",
      " 17  Diet-Seed                      9597 non-null   float64\n",
      " 18  Diet-PlantO                    9597 non-null   float64\n",
      " 19  Diet-5Cat                      9597 non-null   object \n",
      " 20  Diet-Source                    9597 non-null   object \n",
      " 21  Diet-Certainty                 9597 non-null   object \n",
      " 22  Diet-EnteredBy                 9325 non-null   object \n",
      " 23  ForStrat-watbelowsurf          9597 non-null   float64\n",
      " 24  ForStrat-wataroundsurf         9597 non-null   float64\n",
      " 25  ForStrat-ground                9597 non-null   float64\n",
      " 26  ForStrat-understory            9597 non-null   float64\n",
      " 27  ForStrat-midhigh               9597 non-null   float64\n",
      " 28  ForStrat-canopy                9597 non-null   float64\n",
      " 29  ForStrat-aerial                9597 non-null   float64\n",
      " 30  PelagicSpecialist              9597 non-null   float64\n",
      " 31  ForStrat-Source                9597 non-null   object \n",
      " 32  ForStrat-SpecLevel             9597 non-null   float64\n",
      " 33  ForStrat-EnteredBy             9597 non-null   object \n",
      " 34  Nocturnal                      9597 non-null   float64\n",
      " 35  BodyMass-Value                 9597 non-null   float64\n",
      " 36  BodyMass-Source                9597 non-null   object \n",
      " 37  BodyMass-SpecLevel             9597 non-null   float64\n",
      " 38  BodyMass-Comment               330 non-null    object \n",
      " 39  Record-Comment                 225 non-null    object \n",
      " 40  English name_x                 9597 non-null   object \n",
      " 41  Family                         9597 non-null   object \n",
      " 42  Global IUCN Red List Category  9597 non-null   object \n",
      " 43  endemic_breeding               9597 non-null   float64\n",
      " 44  migratory                      9597 non-null   float64\n",
      " 45  africa                         9597 non-null   float64\n",
      " 46  antarctica                     9597 non-null   float64\n",
      " 47  asia                           9597 non-null   float64\n",
      " 48  australasia                    9597 non-null   float64\n",
      " 49  caribbean                      9597 non-null   float64\n",
      " 50  central_amer                   9597 non-null   float64\n",
      " 51  central_asia                   9597 non-null   float64\n",
      " 52  europe                         9597 non-null   float64\n",
      " 53  high_seas                      9597 non-null   float64\n",
      " 54  mid_east                       9597 non-null   float64\n",
      " 55  north_amer                     9597 non-null   float64\n",
      " 56  oceania                        9597 non-null   float64\n",
      " 57  south_amer                     9597 non-null   float64\n",
      " 58  agriculture_threat             9597 non-null   float64\n",
      " 59  biological_threat              9597 non-null   float64\n",
      " 60  climate_change_threat          9597 non-null   float64\n",
      " 61  energy_mining_threat           9597 non-null   float64\n",
      " 62  geological_threat              9597 non-null   float64\n",
      " 63  human_intrusions_threat        9597 non-null   float64\n",
      " 64  natural_systems_threat         9597 non-null   float64\n",
      " 65  pollution_threat               9597 non-null   float64\n",
      " 66  res_comm_dev_threat            9597 non-null   float64\n",
      " 67  transportation_threat          9597 non-null   float64\n",
      " 68  invasive_threat                9597 non-null   float64\n",
      " 69  artificial_aquatic             9597 non-null   float64\n",
      " 70  artificial_terrestrial         9597 non-null   float64\n",
      " 71  caves_subterranean             9597 non-null   float64\n",
      " 72  desert                         9597 non-null   float64\n",
      " 73  forest                         9597 non-null   float64\n",
      " 74  grassland                      9597 non-null   float64\n",
      " 75  introduced_vegetation          9597 non-null   float64\n",
      " 76  marine_coastal_supratidal      9597 non-null   float64\n",
      " 77  marine_intertidal              9597 non-null   float64\n",
      " 78  marine_neritic                 9597 non-null   float64\n",
      " 79  marine_oceanic                 9597 non-null   float64\n",
      " 80  rocky_areas                    9597 non-null   float64\n",
      " 81  savanna                        9597 non-null   float64\n",
      " 82  shrubland                      9597 non-null   float64\n",
      " 83  wetlands_inland                9597 non-null   float64\n",
      " 84  English name_y                 7276 non-null   object \n",
      " 85  Scientific Name                7276 non-null   object \n",
      " 86  breeding_range                 6894 non-null   object \n",
      "dtypes: float64(65), object(22)\n",
      "memory usage: 6.4+ MB\n"
     ]
    }
   ],
   "source": [
    "df.info()"
   ]
  },
  {
   "cell_type": "code",
   "execution_count": 29,
   "metadata": {},
   "outputs": [
    {
     "data": {
      "text/plain": [
       "<BarContainer object of 194 artists>"
      ]
     },
     "execution_count": 29,
     "metadata": {},
     "output_type": "execute_result"
    },
    {
     "data": {
      "image/png": "[encoded data removed]",
      "text/plain": [
       "<Figure size 432x288 with 1 Axes>"
      ]
     },
     "metadata": {
      "needs_background": "light"
     },
     "output_type": "display_data"
    }
   ],
   "source": [
    "families= df['BLFamilyEnglish'].value_counts()\n",
    "\n",
    "plt.bar(x=families.index, height=families)"
   ]
  },
  {
   "cell_type": "code",
   "execution_count": 23,
   "metadata": {},
   "outputs": [],
   "source": [
    "diet_cer = df['Diet-Certainty'].value_counts()"
   ]
  },
  {
   "cell_type": "code",
   "execution_count": 25,
   "metadata": {},
   "outputs": [
    {
     "data": {
      "text/plain": [
       "<BarContainer object of 5 artists>"
      ]
     },
     "execution_count": 25,
     "metadata": {},
     "output_type": "execute_result"
    },
    {
     "data": {
      "image/png": "[encoded data removed]",
      "text/plain": [
       "<Figure size 432x288 with 1 Axes>"
      ]
     },
     "metadata": {
      "needs_background": "light"
     },
     "output_type": "display_data"
    }
   ],
   "source": [
    "plt.bar(x=diet_cer.index, height=diet_cer)"
   ]
  },
  {
   "cell_type": "code",
   "execution_count": 32,
   "metadata": {},
   "outputs": [
    {
     "data": {
      "text/plain": [
       "<BarContainer object of 5 artists>"
      ]
     },
     "execution_count": 32,
     "metadata": {},
     "output_type": "execute_result"
    },
    {
     "data": {
      "image/png": "[encoded data removed]",
      "text/plain": [
       "<Figure size 432x288 with 1 Axes>"
      ]
     },
     "metadata": {
      "needs_background": "light"
     },
     "output_type": "display_data"
    }
   ],
   "source": [
    "diet = df['Diet-5Cat'].value_counts()\n",
    "plt.bar(x=diet.index, height=diet)"
   ]
  },
  {
   "cell_type": "code",
   "execution_count": 35,
   "metadata": {},
   "outputs": [
    {
     "data": {
      "text/plain": [
       "0        True\n",
       "1        True\n",
       "2        True\n",
       "3        True\n",
       "4        True\n",
       "        ...  \n",
       "9592    False\n",
       "9593    False\n",
       "9594    False\n",
       "9595    False\n",
       "9596    False\n",
       "Length: 9597, dtype: bool"
      ]
     },
     "execution_count": 35,
     "metadata": {},
     "output_type": "execute_result"
    }
   ],
   "source": [
    "df['English']==df['English name_x']"
   ]
  },
  {
   "cell_type": "code",
   "execution_count": 37,
   "metadata": {},
   "outputs": [
    {
     "data": {
      "text/plain": [
       "Passeriformes          5705\n",
       "Apodiformes             429\n",
       "Piciformes              396\n",
       "Charadriiformes         362\n",
       "Psittaciformes          347\n",
       "Columbiformes           300\n",
       "Galliformes             279\n",
       "Accipitriformes         242\n",
       "Strigiformes            197\n",
       "Anseriformes            158\n",
       "Gruiformes              151\n",
       "Coraciiformes           147\n",
       "Cuculiformes            137\n",
       "Procellariiformes       127\n",
       "Caprimulgiformes        107\n",
       "Pelecaniformes          103\n",
       "Falconiformes            63\n",
       "Bucerotiformes           60\n",
       "Tinamiformes             46\n",
       "Suliformes               44\n",
       "Trogoniformes            41\n",
       "Musophagiformes          23\n",
       "Otidiformes              22\n",
       "Podicipediformes         19\n",
       "Sphenisciformes          18\n",
       "Ciconiiformes            18\n",
       "Pteroclidiformes         16\n",
       "Coliiformes               6\n",
       "Phoenicopteriformes       6\n",
       "Gaviiformes               5\n",
       "Casuariiformes            4\n",
       "Apterygiformes            4\n",
       "Mesitornithiformes        3\n",
       "Phaethontiformes          3\n",
       "Rheiformes                2\n",
       "Cariamiformes             2\n",
       "Eurypygiformes            2\n",
       "Opisthocomiformes         1\n",
       "Leptosomiformes           1\n",
       "Struthioniformes          1\n",
       "Name: IOCOrder, dtype: int64"
      ]
     },
     "execution_count": 37,
     "metadata": {},
     "output_type": "execute_result"
    }
   ],
   "source": [
    "df['IOCOrder'].value_counts()"
   ]
  },
  {
   "cell_type": "code",
   "execution_count": 45,
   "metadata": {},
   "outputs": [
    {
     "data": {
      "text/plain": [
       "<BarContainer object of 9 artists>"
      ]
     },
     "execution_count": 45,
     "metadata": {},
     "output_type": "execute_result"
    },
    {
     "data": {
      "image/png": "[encoded data removed]",
      "text/plain": [
       "<Figure size 432x288 with 1 Axes>"
      ]
     },
     "metadata": {
      "needs_background": "light"
     },
     "output_type": "display_data"
    }
   ],
   "source": [
    "red_list = df['Global IUCN Red List Category'].value_counts()\n",
    "plt.bar(x=red_list.index, height=red_list)"
   ]
  },
  {
   "cell_type": "code",
   "execution_count": 53,
   "metadata": {},
   "outputs": [],
   "source": [
    "df['threatened'] = 0\n",
    "\n",
    "df.loc[(df['Global IUCN Red List Category'] == 'VU') |\n",
    "      (df['Global IUCN Red List Category'] == 'EN') |\n",
    "      (df['Global IUCN Red List Category'] == 'CR') |\n",
    "      (df['Global IUCN Red List Category'] == 'CR(PE)'), 'threatened'] = 1\n",
    "\n",
    "df.drop('Global IUCN Red List Category', axis=1, inplace=True)"
   ]
  },
  {
   "cell_type": "code",
   "execution_count": 67,
   "metadata": {},
   "outputs": [
    {
     "data": {
      "image/png": "[encoded data removed]",
      "text/plain": [
       "<Figure size 432x288 with 1 Axes>"
      ]
     },
     "metadata": {
      "needs_background": "light"
     },
     "output_type": "display_data"
    }
   ],
   "source": [
    "df['threatened'].value_counts().plot(kind=\"bar\");\n",
    "#plt.bar(x=threatened.index, height=threatened)"
   ]
  },
  {
   "cell_type": "code",
   "execution_count": 55,
   "metadata": {},
   "outputs": [
    {
     "data": {
      "text/plain": [
       "0    8358\n",
       "1    1239\n",
       "Name: threatened, dtype: int64"
      ]
     },
     "execution_count": 55,
     "metadata": {},
     "output_type": "execute_result"
    }
   ],
   "source": [
    "threatened"
   ]
  },
  {
   "cell_type": "markdown",
   "metadata": {},
   "source": [
    "## breeding_range"
   ]
  },
  {
   "cell_type": "code",
   "execution_count": 64,
   "metadata": {},
   "outputs": [
    {
     "data": {
      "text/plain": [
       "SA                    1907\n",
       "AF                    1173\n",
       "OR                    1001\n",
       "AU                     983\n",
       "EU                     463\n",
       "MA, SA                 374\n",
       "MA                     297\n",
       "NA, MA                 149\n",
       "PO                     141\n",
       "NA, MA, SA              55\n",
       "NA, EU                  53\n",
       "EU, AF                  31\n",
       "EU, NA                  29\n",
       "IO                      29\n",
       "OR, AU                  26\n",
       "SO                      21\n",
       "AF, EU                  20\n",
       "EU, OR                  20\n",
       "AO                      20\n",
       "TrO                     11\n",
       "AF, OR                  11\n",
       "Worldwide                8\n",
       "SO, AN                   7\n",
       "NA, MA, EU               5\n",
       "EU, AF, OR               5\n",
       "NA, SA                   4\n",
       "AF, EU, OR               4\n",
       "EU, AF, OR, AU           4\n",
       "OR, EU                   4\n",
       "PO, IO                   3\n",
       "AN                       3\n",
       "EU, OR, AF               3\n",
       "AF, OR, AU               3\n",
       "AO, IO                   2\n",
       "AF, EU, OR, AU           2\n",
       "AF, IO                   2\n",
       "OR, AF, AU               1\n",
       "PO, AO                   1\n",
       "SA, EU, AF, AU           1\n",
       "IO, AO                   1\n",
       "SA, AF                   1\n",
       "AF, SA                   1\n",
       "EU, AF, IO, OR, PO       1\n",
       "EU, OR, NA, MA           1\n",
       "AO, PO                   1\n",
       "AO, SA                   1\n",
       "SA, NA                   1\n",
       "OR, AU, PO               1\n",
       "EU, AU, OR               1\n",
       "EU, OR, AU, AF           1\n",
       "AF, IO, EU               1\n",
       "MA, NA                   1\n",
       "EU, AF, NA, MA           1\n",
       "MA, SA, NA               1\n",
       "IO, PO                   1\n",
       "SA, AU, AF               1\n",
       "AU, OR                   1\n",
       "Name: breeding_range, dtype: int64"
      ]
     },
     "execution_count": 64,
     "metadata": {},
     "output_type": "execute_result"
    }
   ],
   "source": [
    "df['breeding_range'].value_counts()"
   ]
  },
  {
   "cell_type": "code",
   "execution_count": 83,
   "metadata": {},
   "outputs": [
    {
     "data": {
      "text/html": [
       "<div>\n",
       "<style scoped>\n",
       "    .dataframe tbody tr th:only-of-type {\n",
       "        vertical-align: middle;\n",
       "    }\n",
       "\n",
       "    .dataframe tbody tr th {\n",
       "        vertical-align: top;\n",
       "    }\n",
       "\n",
       "    .dataframe thead th {\n",
       "        text-align: right;\n",
       "    }\n",
       "</style>\n",
       "<table border=\"1\" class=\"dataframe\">\n",
       "  <thead>\n",
       "    <tr style=\"text-align: right;\">\n",
       "      <th></th>\n",
       "      <th>SpecID</th>\n",
       "      <th>breeding_range</th>\n",
       "    </tr>\n",
       "  </thead>\n",
       "  <tbody>\n",
       "    <tr>\n",
       "      <th>0</th>\n",
       "      <td>37.0</td>\n",
       "      <td>SA</td>\n",
       "    </tr>\n",
       "    <tr>\n",
       "      <th>1</th>\n",
       "      <td>38.0</td>\n",
       "      <td>SA</td>\n",
       "    </tr>\n",
       "    <tr>\n",
       "      <th>2</th>\n",
       "      <td>45.0</td>\n",
       "      <td>AU</td>\n",
       "    </tr>\n",
       "    <tr>\n",
       "      <th>3</th>\n",
       "      <td>46.0</td>\n",
       "      <td>AU</td>\n",
       "    </tr>\n",
       "    <tr>\n",
       "      <th>4</th>\n",
       "      <td>47.0</td>\n",
       "      <td>AU</td>\n",
       "    </tr>\n",
       "    <tr>\n",
       "      <th>...</th>\n",
       "      <td>...</td>\n",
       "      <td>...</td>\n",
       "    </tr>\n",
       "    <tr>\n",
       "      <th>9592</th>\n",
       "      <td>20067.0</td>\n",
       "      <td>NaN</td>\n",
       "    </tr>\n",
       "    <tr>\n",
       "      <th>9593</th>\n",
       "      <td>20087.0</td>\n",
       "      <td>NaN</td>\n",
       "    </tr>\n",
       "    <tr>\n",
       "      <th>9594</th>\n",
       "      <td>20091.0</td>\n",
       "      <td>NaN</td>\n",
       "    </tr>\n",
       "    <tr>\n",
       "      <th>9595</th>\n",
       "      <td>20095.0</td>\n",
       "      <td>NaN</td>\n",
       "    </tr>\n",
       "    <tr>\n",
       "      <th>9596</th>\n",
       "      <td>20100.0</td>\n",
       "      <td>NaN</td>\n",
       "    </tr>\n",
       "  </tbody>\n",
       "</table>\n",
       "<p>9597 rows × 2 columns</p>\n",
       "</div>"
      ],
      "text/plain": [
       "       SpecID breeding_range\n",
       "0        37.0             SA\n",
       "1        38.0             SA\n",
       "2        45.0             AU\n",
       "3        46.0             AU\n",
       "4        47.0             AU\n",
       "...       ...            ...\n",
       "9592  20067.0            NaN\n",
       "9593  20087.0            NaN\n",
       "9594  20091.0            NaN\n",
       "9595  20095.0            NaN\n",
       "9596  20100.0            NaN\n",
       "\n",
       "[9597 rows x 2 columns]"
      ]
     },
     "execution_count": 83,
     "metadata": {},
     "output_type": "execute_result"
    }
   ],
   "source": [
    "breeding_range = df[['SpecID', 'breeding_range']].copy()\n",
    "breeding_range"
   ]
  },
  {
   "cell_type": "code",
   "execution_count": 84,
   "metadata": {},
   "outputs": [],
   "source": [
    "breeding_range['breeding_range']=breeding_range['breeding_range'].str.split(\",\")"
   ]
  },
  {
   "cell_type": "code",
   "execution_count": 85,
   "metadata": {},
   "outputs": [],
   "source": [
    "breeding_range = breeding_range.explode('breeding_range')"
   ]
  },
  {
   "cell_type": "code",
   "execution_count": 86,
   "metadata": {},
   "outputs": [
    {
     "data": {
      "text/html": [
       "<div>\n",
       "<style scoped>\n",
       "    .dataframe tbody tr th:only-of-type {\n",
       "        vertical-align: middle;\n",
       "    }\n",
       "\n",
       "    .dataframe tbody tr th {\n",
       "        vertical-align: top;\n",
       "    }\n",
       "\n",
       "    .dataframe thead th {\n",
       "        text-align: right;\n",
       "    }\n",
       "</style>\n",
       "<table border=\"1\" class=\"dataframe\">\n",
       "  <thead>\n",
       "    <tr style=\"text-align: right;\">\n",
       "      <th></th>\n",
       "      <th>SpecID</th>\n",
       "      <th>breeding_range</th>\n",
       "    </tr>\n",
       "  </thead>\n",
       "  <tbody>\n",
       "    <tr>\n",
       "      <th>0</th>\n",
       "      <td>37.0</td>\n",
       "      <td>SA</td>\n",
       "    </tr>\n",
       "    <tr>\n",
       "      <th>1</th>\n",
       "      <td>38.0</td>\n",
       "      <td>SA</td>\n",
       "    </tr>\n",
       "    <tr>\n",
       "      <th>2</th>\n",
       "      <td>45.0</td>\n",
       "      <td>AU</td>\n",
       "    </tr>\n",
       "    <tr>\n",
       "      <th>3</th>\n",
       "      <td>46.0</td>\n",
       "      <td>AU</td>\n",
       "    </tr>\n",
       "    <tr>\n",
       "      <th>4</th>\n",
       "      <td>47.0</td>\n",
       "      <td>AU</td>\n",
       "    </tr>\n",
       "    <tr>\n",
       "      <th>...</th>\n",
       "      <td>...</td>\n",
       "      <td>...</td>\n",
       "    </tr>\n",
       "    <tr>\n",
       "      <th>9592</th>\n",
       "      <td>20067.0</td>\n",
       "      <td>NaN</td>\n",
       "    </tr>\n",
       "    <tr>\n",
       "      <th>9593</th>\n",
       "      <td>20087.0</td>\n",
       "      <td>NaN</td>\n",
       "    </tr>\n",
       "    <tr>\n",
       "      <th>9594</th>\n",
       "      <td>20091.0</td>\n",
       "      <td>NaN</td>\n",
       "    </tr>\n",
       "    <tr>\n",
       "      <th>9595</th>\n",
       "      <td>20095.0</td>\n",
       "      <td>NaN</td>\n",
       "    </tr>\n",
       "    <tr>\n",
       "      <th>9596</th>\n",
       "      <td>20100.0</td>\n",
       "      <td>NaN</td>\n",
       "    </tr>\n",
       "  </tbody>\n",
       "</table>\n",
       "<p>10538 rows × 2 columns</p>\n",
       "</div>"
      ],
      "text/plain": [
       "       SpecID breeding_range\n",
       "0        37.0             SA\n",
       "1        38.0             SA\n",
       "2        45.0             AU\n",
       "3        46.0             AU\n",
       "4        47.0             AU\n",
       "...       ...            ...\n",
       "9592  20067.0            NaN\n",
       "9593  20087.0            NaN\n",
       "9594  20091.0            NaN\n",
       "9595  20095.0            NaN\n",
       "9596  20100.0            NaN\n",
       "\n",
       "[10538 rows x 2 columns]"
      ]
     },
     "execution_count": 86,
     "metadata": {},
     "output_type": "execute_result"
    }
   ],
   "source": [
    "breeding_range"
   ]
  },
  {
   "cell_type": "code",
   "execution_count": null,
   "metadata": {},
   "outputs": [],
   "source": []
  }
 ],
 "metadata": {
  "kernelspec": {
   "display_name": "(learn-env)",
   "language": "python",
   "name": "learn-env"
  },
  "language_info": {
   "codemirror_mode": {
    "name": "ipython",
    "version": 3
   },
   "file_extension": ".py",
   "mimetype": "text/x-python",
   "name": "python",
   "nbconvert_exporter": "python",
   "pygments_lexer": "ipython3",
   "version": "3.8.5"
  }
 },
 "nbformat": 4,
 "nbformat_minor": 4
}
